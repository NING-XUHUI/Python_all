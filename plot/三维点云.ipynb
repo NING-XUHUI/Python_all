{
 "cells": [
  {
   "cell_type": "code",
   "execution_count": 1,
   "metadata": {
    "collapsed": true
   },
   "outputs": [],
   "source": [
    "from mpl_toolkits.mplot3d import Axes3D\n",
    "import matplotlib as mpl\n",
    "import matplotlib.pyplot as plt\n",
    "import pandas as pd\n",
    "import numpy as np\n",
    "mpl.rcParams['legend.fontsize'] = 10"
   ]
  },
  {
   "cell_type": "code",
   "execution_count": 2,
   "outputs": [],
   "source": [
    "data = pd.read_csv(\"./FMW/L-quzhou_FMW.csv\")"
   ],
   "metadata": {
    "collapsed": false,
    "pycharm": {
     "name": "#%%\n"
    }
   }
  },
  {
   "cell_type": "code",
   "execution_count": 3,
   "outputs": [
    {
     "data": {
      "text/plain": "          X[s]  Trigno Avanti sensor 9: EMG 9 (IM)   X[s].1  \\\n0       0.0000                                 0.0  0.00000   \n1       0.0005                                 0.0  0.00675   \n2       0.0010                                 0.0  0.01350   \n3       0.0015                                 0.0  0.02025   \n4       0.0020                                 0.0  0.02700   \n...        ...                                 ...      ...   \n305995     NaN                                 0.0      NaN   \n305996     NaN                                 0.0      NaN   \n305997     NaN                                 0.0      NaN   \n305998     NaN                                 0.0      NaN   \n305999     NaN                                 0.0      NaN   \n\n        Trigno Avanti sensor 9: Acc 9.X (IM)   X[s].2  \\\n0                                        0.0  0.00000   \n1                                        0.0  0.00675   \n2                                        0.0  0.01350   \n3                                        0.0  0.02025   \n4                                        0.0  0.02700   \n...                                      ...      ...   \n305995                                   0.0      NaN   \n305996                                   0.0      NaN   \n305997                                   0.0      NaN   \n305998                                   0.0      NaN   \n305999                                   0.0      NaN   \n\n        Trigno Avanti sensor 9: Acc 9.Y (IM)   X[s].3  \\\n0                                        0.0  0.00000   \n1                                        0.0  0.00675   \n2                                        0.0  0.01350   \n3                                        0.0  0.02025   \n4                                        0.0  0.02700   \n...                                      ...      ...   \n305995                                   0.0      NaN   \n305996                                   0.0      NaN   \n305997                                   0.0      NaN   \n305998                                   0.0      NaN   \n305999                                   0.0      NaN   \n\n        Trigno Avanti sensor 9: Acc 9.Z (IM)   X[s].4  \\\n0                                        0.0  0.00000   \n1                                        0.0  0.00675   \n2                                        0.0  0.01350   \n3                                        0.0  0.02025   \n4                                        0.0  0.02700   \n...                                      ...      ...   \n305995                                   0.0      NaN   \n305996                                   0.0      NaN   \n305997                                   0.0      NaN   \n305998                                   0.0      NaN   \n305999                                   0.0      NaN   \n\n        Trigno Avanti sensor 9: Gyro 9.X (IM)  ...  X[s].15  \\\n0                                         0.0  ...  0.00000   \n1                                         0.0  ...  0.00675   \n2                                         0.0  ...  0.01350   \n3                                         0.0  ...  0.02025   \n4                                         0.0  ...  0.02700   \n...                                       ...  ...      ...   \n305995                                    0.0  ...      NaN   \n305996                                    0.0  ...      NaN   \n305997                                    0.0  ...      NaN   \n305998                                    0.0  ...      NaN   \n305999                                    0.0  ...      NaN   \n\n        Trigno Avanti sensor 10: Gyro 10.Y (IM)  X[s].16  \\\n0                                           0.0  0.00000   \n1                                           0.0  0.00675   \n2                                           0.0  0.01350   \n3                                           0.0  0.02025   \n4                                           0.0  0.02700   \n...                                         ...      ...   \n305995                                      0.0      NaN   \n305996                                      0.0      NaN   \n305997                                      0.0      NaN   \n305998                                      0.0      NaN   \n305999                                      0.0      NaN   \n\n        Trigno Avanti sensor 10: Gyro 10.Z (IM)  X[s].17  \\\n0                                           0.0   0.0000   \n1                                           0.0   0.0135   \n2                                           0.0   0.0270   \n3                                           0.0   0.0405   \n4                                           0.0   0.0540   \n...                                         ...      ...   \n305995                                      0.0      NaN   \n305996                                      0.0      NaN   \n305997                                      0.0      NaN   \n305998                                      0.0      NaN   \n305999                                      0.0      NaN   \n\n        Trigno Avanti sensor 10: Mag 10.X (IM)  X[s].18  \\\n0                                          0.0   0.0000   \n1                                          0.0   0.0135   \n2                                          0.0   0.0270   \n3                                          0.0   0.0405   \n4                                          0.0   0.0540   \n...                                        ...      ...   \n305995                                     0.0      NaN   \n305996                                     0.0      NaN   \n305997                                     0.0      NaN   \n305998                                     0.0      NaN   \n305999                                     0.0      NaN   \n\n        Trigno Avanti sensor 10: Mag 10.Y (IM)  X[s].19  \\\n0                                          0.0   0.0000   \n1                                          0.0   0.0135   \n2                                          0.0   0.0270   \n3                                          0.0   0.0405   \n4                                          0.0   0.0540   \n...                                        ...      ...   \n305995                                     0.0      NaN   \n305996                                     0.0      NaN   \n305997                                     0.0      NaN   \n305998                                     0.0      NaN   \n305999                                     0.0      NaN   \n\n        Trigno Avanti sensor 10: Mag 10.Z (IM)  \n0                                          0.0  \n1                                          0.0  \n2                                          0.0  \n3                                          0.0  \n4                                          0.0  \n...                                        ...  \n305995                                     0.0  \n305996                                     0.0  \n305997                                     0.0  \n305998                                     0.0  \n305999                                     0.0  \n\n[306000 rows x 40 columns]",
      "text/html": "<div>\n<style scoped>\n    .dataframe tbody tr th:only-of-type {\n        vertical-align: middle;\n    }\n\n    .dataframe tbody tr th {\n        vertical-align: top;\n    }\n\n    .dataframe thead th {\n        text-align: right;\n    }\n</style>\n<table border=\"1\" class=\"dataframe\">\n  <thead>\n    <tr style=\"text-align: right;\">\n      <th></th>\n      <th>X[s]</th>\n      <th>Trigno Avanti sensor 9: EMG 9 (IM)</th>\n      <th>X[s].1</th>\n      <th>Trigno Avanti sensor 9: Acc 9.X (IM)</th>\n      <th>X[s].2</th>\n      <th>Trigno Avanti sensor 9: Acc 9.Y (IM)</th>\n      <th>X[s].3</th>\n      <th>Trigno Avanti sensor 9: Acc 9.Z (IM)</th>\n      <th>X[s].4</th>\n      <th>Trigno Avanti sensor 9: Gyro 9.X (IM)</th>\n      <th>...</th>\n      <th>X[s].15</th>\n      <th>Trigno Avanti sensor 10: Gyro 10.Y (IM)</th>\n      <th>X[s].16</th>\n      <th>Trigno Avanti sensor 10: Gyro 10.Z (IM)</th>\n      <th>X[s].17</th>\n      <th>Trigno Avanti sensor 10: Mag 10.X (IM)</th>\n      <th>X[s].18</th>\n      <th>Trigno Avanti sensor 10: Mag 10.Y (IM)</th>\n      <th>X[s].19</th>\n      <th>Trigno Avanti sensor 10: Mag 10.Z (IM)</th>\n    </tr>\n  </thead>\n  <tbody>\n    <tr>\n      <th>0</th>\n      <td>0.0000</td>\n      <td>0.0</td>\n      <td>0.00000</td>\n      <td>0.0</td>\n      <td>0.00000</td>\n      <td>0.0</td>\n      <td>0.00000</td>\n      <td>0.0</td>\n      <td>0.00000</td>\n      <td>0.0</td>\n      <td>...</td>\n      <td>0.00000</td>\n      <td>0.0</td>\n      <td>0.00000</td>\n      <td>0.0</td>\n      <td>0.0000</td>\n      <td>0.0</td>\n      <td>0.0000</td>\n      <td>0.0</td>\n      <td>0.0000</td>\n      <td>0.0</td>\n    </tr>\n    <tr>\n      <th>1</th>\n      <td>0.0005</td>\n      <td>0.0</td>\n      <td>0.00675</td>\n      <td>0.0</td>\n      <td>0.00675</td>\n      <td>0.0</td>\n      <td>0.00675</td>\n      <td>0.0</td>\n      <td>0.00675</td>\n      <td>0.0</td>\n      <td>...</td>\n      <td>0.00675</td>\n      <td>0.0</td>\n      <td>0.00675</td>\n      <td>0.0</td>\n      <td>0.0135</td>\n      <td>0.0</td>\n      <td>0.0135</td>\n      <td>0.0</td>\n      <td>0.0135</td>\n      <td>0.0</td>\n    </tr>\n    <tr>\n      <th>2</th>\n      <td>0.0010</td>\n      <td>0.0</td>\n      <td>0.01350</td>\n      <td>0.0</td>\n      <td>0.01350</td>\n      <td>0.0</td>\n      <td>0.01350</td>\n      <td>0.0</td>\n      <td>0.01350</td>\n      <td>0.0</td>\n      <td>...</td>\n      <td>0.01350</td>\n      <td>0.0</td>\n      <td>0.01350</td>\n      <td>0.0</td>\n      <td>0.0270</td>\n      <td>0.0</td>\n      <td>0.0270</td>\n      <td>0.0</td>\n      <td>0.0270</td>\n      <td>0.0</td>\n    </tr>\n    <tr>\n      <th>3</th>\n      <td>0.0015</td>\n      <td>0.0</td>\n      <td>0.02025</td>\n      <td>0.0</td>\n      <td>0.02025</td>\n      <td>0.0</td>\n      <td>0.02025</td>\n      <td>0.0</td>\n      <td>0.02025</td>\n      <td>0.0</td>\n      <td>...</td>\n      <td>0.02025</td>\n      <td>0.0</td>\n      <td>0.02025</td>\n      <td>0.0</td>\n      <td>0.0405</td>\n      <td>0.0</td>\n      <td>0.0405</td>\n      <td>0.0</td>\n      <td>0.0405</td>\n      <td>0.0</td>\n    </tr>\n    <tr>\n      <th>4</th>\n      <td>0.0020</td>\n      <td>0.0</td>\n      <td>0.02700</td>\n      <td>0.0</td>\n      <td>0.02700</td>\n      <td>0.0</td>\n      <td>0.02700</td>\n      <td>0.0</td>\n      <td>0.02700</td>\n      <td>0.0</td>\n      <td>...</td>\n      <td>0.02700</td>\n      <td>0.0</td>\n      <td>0.02700</td>\n      <td>0.0</td>\n      <td>0.0540</td>\n      <td>0.0</td>\n      <td>0.0540</td>\n      <td>0.0</td>\n      <td>0.0540</td>\n      <td>0.0</td>\n    </tr>\n    <tr>\n      <th>...</th>\n      <td>...</td>\n      <td>...</td>\n      <td>...</td>\n      <td>...</td>\n      <td>...</td>\n      <td>...</td>\n      <td>...</td>\n      <td>...</td>\n      <td>...</td>\n      <td>...</td>\n      <td>...</td>\n      <td>...</td>\n      <td>...</td>\n      <td>...</td>\n      <td>...</td>\n      <td>...</td>\n      <td>...</td>\n      <td>...</td>\n      <td>...</td>\n      <td>...</td>\n      <td>...</td>\n    </tr>\n    <tr>\n      <th>305995</th>\n      <td>NaN</td>\n      <td>0.0</td>\n      <td>NaN</td>\n      <td>0.0</td>\n      <td>NaN</td>\n      <td>0.0</td>\n      <td>NaN</td>\n      <td>0.0</td>\n      <td>NaN</td>\n      <td>0.0</td>\n      <td>...</td>\n      <td>NaN</td>\n      <td>0.0</td>\n      <td>NaN</td>\n      <td>0.0</td>\n      <td>NaN</td>\n      <td>0.0</td>\n      <td>NaN</td>\n      <td>0.0</td>\n      <td>NaN</td>\n      <td>0.0</td>\n    </tr>\n    <tr>\n      <th>305996</th>\n      <td>NaN</td>\n      <td>0.0</td>\n      <td>NaN</td>\n      <td>0.0</td>\n      <td>NaN</td>\n      <td>0.0</td>\n      <td>NaN</td>\n      <td>0.0</td>\n      <td>NaN</td>\n      <td>0.0</td>\n      <td>...</td>\n      <td>NaN</td>\n      <td>0.0</td>\n      <td>NaN</td>\n      <td>0.0</td>\n      <td>NaN</td>\n      <td>0.0</td>\n      <td>NaN</td>\n      <td>0.0</td>\n      <td>NaN</td>\n      <td>0.0</td>\n    </tr>\n    <tr>\n      <th>305997</th>\n      <td>NaN</td>\n      <td>0.0</td>\n      <td>NaN</td>\n      <td>0.0</td>\n      <td>NaN</td>\n      <td>0.0</td>\n      <td>NaN</td>\n      <td>0.0</td>\n      <td>NaN</td>\n      <td>0.0</td>\n      <td>...</td>\n      <td>NaN</td>\n      <td>0.0</td>\n      <td>NaN</td>\n      <td>0.0</td>\n      <td>NaN</td>\n      <td>0.0</td>\n      <td>NaN</td>\n      <td>0.0</td>\n      <td>NaN</td>\n      <td>0.0</td>\n    </tr>\n    <tr>\n      <th>305998</th>\n      <td>NaN</td>\n      <td>0.0</td>\n      <td>NaN</td>\n      <td>0.0</td>\n      <td>NaN</td>\n      <td>0.0</td>\n      <td>NaN</td>\n      <td>0.0</td>\n      <td>NaN</td>\n      <td>0.0</td>\n      <td>...</td>\n      <td>NaN</td>\n      <td>0.0</td>\n      <td>NaN</td>\n      <td>0.0</td>\n      <td>NaN</td>\n      <td>0.0</td>\n      <td>NaN</td>\n      <td>0.0</td>\n      <td>NaN</td>\n      <td>0.0</td>\n    </tr>\n    <tr>\n      <th>305999</th>\n      <td>NaN</td>\n      <td>0.0</td>\n      <td>NaN</td>\n      <td>0.0</td>\n      <td>NaN</td>\n      <td>0.0</td>\n      <td>NaN</td>\n      <td>0.0</td>\n      <td>NaN</td>\n      <td>0.0</td>\n      <td>...</td>\n      <td>NaN</td>\n      <td>0.0</td>\n      <td>NaN</td>\n      <td>0.0</td>\n      <td>NaN</td>\n      <td>0.0</td>\n      <td>NaN</td>\n      <td>0.0</td>\n      <td>NaN</td>\n      <td>0.0</td>\n    </tr>\n  </tbody>\n</table>\n<p>306000 rows × 40 columns</p>\n</div>"
     },
     "execution_count": 3,
     "metadata": {},
     "output_type": "execute_result"
    }
   ],
   "source": [
    "data\n"
   ],
   "metadata": {
    "collapsed": false,
    "pycharm": {
     "name": "#%%\n"
    }
   }
  },
  {
   "cell_type": "code",
   "execution_count": 4,
   "outputs": [],
   "source": [
    "x = data[\"Trigno Avanti sensor 9: Gyro 9.X (IM)\"]\n",
    "y = data[\"Trigno Avanti sensor 9: Gyro 9.Y (IM)\"]\n",
    "z = data[\"Trigno Avanti sensor 9: Gyro 9.Z (IM)\"]\n",
    "\n",
    "x1 = data[\"Trigno Avanti sensor 10: Gyro 10.X (IM)\"]\n",
    "y1 = data[\"Trigno Avanti sensor 10: Gyro 10.Y (IM)\"]\n",
    "z1 = data[\"Trigno Avanti sensor 10: Gyro 10.Z (IM)\"]"
   ],
   "metadata": {
    "collapsed": false,
    "pycharm": {
     "name": "#%%\n"
    }
   }
  },
  {
   "cell_type": "code",
   "execution_count": null,
   "outputs": [],
   "source": [
    "fig = plt.figure(dpi=10000)\n",
    "ax = fig.gca(projection=\"3d\")\n",
    "theta = np.linspace(-4 * np.pi, 4 * np.pi, 100)\n",
    "# z = np.linspace(-2, 2, 100)\n",
    "# r = z ** 2 + 1\n",
    "\n",
    "# x = r * np.sin(theta)\n",
    "# y = r * np.cos(theta)\n",
    "\n",
    "\n",
    "\n",
    "ax.scatter(x, y, z, label=\"9\")\n",
    "ax.scatter(x1, y1, z1, label=\"10\")\n",
    "\n",
    "ax.legend()\n",
    "plt.show()"
   ],
   "metadata": {
    "collapsed": false,
    "pycharm": {
     "name": "#%%\n",
     "is_executing": true
    }
   }
  },
  {
   "cell_type": "code",
   "execution_count": null,
   "outputs": [],
   "source": [],
   "metadata": {
    "collapsed": false,
    "pycharm": {
     "name": "#%%\n"
    }
   }
  }
 ],
 "metadata": {
  "kernelspec": {
   "display_name": "Python 3",
   "language": "python",
   "name": "python3"
  },
  "language_info": {
   "codemirror_mode": {
    "name": "ipython",
    "version": 2
   },
   "file_extension": ".py",
   "mimetype": "text/x-python",
   "name": "python",
   "nbconvert_exporter": "python",
   "pygments_lexer": "ipython2",
   "version": "2.7.6"
  }
 },
 "nbformat": 4,
 "nbformat_minor": 0
}