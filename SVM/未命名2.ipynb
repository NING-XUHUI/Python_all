{
 "cells": [
  {
   "cell_type": "code",
   "execution_count": 10,
   "id": "4d4cd229",
   "metadata": {},
   "outputs": [],
   "source": [
    "import tensorflow as tf\n",
    "import tensorflow.keras as keras\n",
    "import tensorflow.keras.layers as layers"
   ]
  },
  {
   "cell_type": "code",
   "execution_count": 11,
   "id": "1ccb04da",
   "metadata": {},
   "outputs": [],
   "source": [
    "def VGG(input_tensor):\n",
    "    \"\"\"\n",
    "    The original feature extraction structure from CRNN paper.\n",
    "    Related paper: http://arxiv.org/abs/1507.05717\n",
    "    \"\"\"\n",
    "    x = layers.Conv2D(\n",
    "        filters=64, \n",
    "        kernel_size=3, \n",
    "        padding='same',\n",
    "        activation='relu')(input_tensor)\n",
    "    x = layers.MaxPool2D(pool_size=2, padding='same')(x)\n",
    "\n",
    "    x = layers.Conv2D(\n",
    "        filters=128, \n",
    "        kernel_size=3, \n",
    "        padding='same',\n",
    "        activation='relu')(x)\n",
    "    x = layers.MaxPool2D(pool_size=2, padding='same')(x)\n",
    "\n",
    "    for i in range(2):\n",
    "        x = layers.Conv2D(filters=256, kernel_size=3, padding='same',\n",
    "                          activation='relu')(x)\n",
    "    x = layers.MaxPool2D(pool_size=(2, 2), strides=(2, 1), padding='same')(x)\n",
    "\n",
    "    for i in range(2):\n",
    "        x = layers.Conv2D(filters=512, kernel_size=3, padding='same')(x)\n",
    "        x = layers.BatchNormalization()(x)\n",
    "        x = layers.Activation('relu')(x)\n",
    "    x = layers.MaxPool2D(pool_size=(2, 2), strides=(2, 1), padding='same')(x)\n",
    "\n",
    "    x = layers.Conv2D(filters=512, kernel_size=2, activation='relu')(x)\n",
    "    return x"
   ]
  },
  {
   "cell_type": "code",
   "execution_count": 16,
   "id": "e2f88c5a",
   "metadata": {},
   "outputs": [],
   "source": [
    "def crnn(num_classes):\n",
    "    img_input = keras.Input(shape=(32, None, 1))\n",
    "\n",
    "    x = VGG(img_input)\n",
    "    x = layers.Reshape((-1, 512))(x)\n",
    "\n",
    "    x = layers.Bidirectional(layers.LSTM(units=256, return_sequences=True))(x)\n",
    "    x = layers.Bidirectional(layers.LSTM(units=256, return_sequences=True))(x)\n",
    "    x = layers.Dense(units=num_classes)(x)\n",
    "    return keras.Model(inputs=img_input, outputs=x, name='CRNN')"
   ]
  },
  {
   "cell_type": "markdown",
   "id": "8f6f7c14",
   "metadata": {},
   "source": []
  },
  {
   "cell_type": "code",
   "execution_count": 17,
   "id": "669e1d85",
   "metadata": {},
   "outputs": [],
   "source": [
    "model = crnn(26)"
   ]
  },
  {
   "cell_type": "code",
   "execution_count": 18,
   "id": "8bdfaa0d",
   "metadata": {},
   "outputs": [
    {
     "name": "stdout",
     "output_type": "stream",
     "text": [
      "Model: \"CRNN\"\n",
      "_________________________________________________________________\n",
      "Layer (type)                 Output Shape              Param #   \n",
      "=================================================================\n",
      "input_3 (InputLayer)         [(None, 32, None, 1)]     0         \n",
      "_________________________________________________________________\n",
      "conv2d_14 (Conv2D)           (None, 32, None, 64)      640       \n",
      "_________________________________________________________________\n",
      "max_pooling2d_8 (MaxPooling2 (None, 16, None, 64)      0         \n",
      "_________________________________________________________________\n",
      "conv2d_15 (Conv2D)           (None, 16, None, 128)     73856     \n",
      "_________________________________________________________________\n",
      "max_pooling2d_9 (MaxPooling2 (None, 8, None, 128)      0         \n",
      "_________________________________________________________________\n",
      "conv2d_16 (Conv2D)           (None, 8, None, 256)      295168    \n",
      "_________________________________________________________________\n",
      "conv2d_17 (Conv2D)           (None, 8, None, 256)      590080    \n",
      "_________________________________________________________________\n",
      "max_pooling2d_10 (MaxPooling (None, 4, None, 256)      0         \n",
      "_________________________________________________________________\n",
      "conv2d_18 (Conv2D)           (None, 4, None, 512)      1180160   \n",
      "_________________________________________________________________\n",
      "batch_normalization_4 (Batch (None, 4, None, 512)      2048      \n",
      "_________________________________________________________________\n",
      "activation_4 (Activation)    (None, 4, None, 512)      0         \n",
      "_________________________________________________________________\n",
      "conv2d_19 (Conv2D)           (None, 4, None, 512)      2359808   \n",
      "_________________________________________________________________\n",
      "batch_normalization_5 (Batch (None, 4, None, 512)      2048      \n",
      "_________________________________________________________________\n",
      "activation_5 (Activation)    (None, 4, None, 512)      0         \n",
      "_________________________________________________________________\n",
      "max_pooling2d_11 (MaxPooling (None, 2, None, 512)      0         \n",
      "_________________________________________________________________\n",
      "conv2d_20 (Conv2D)           (None, 1, None, 512)      1049088   \n",
      "_________________________________________________________________\n",
      "reshape_2 (Reshape)          (None, None, 512)         0         \n",
      "_________________________________________________________________\n",
      "bidirectional_4 (Bidirection (None, None, 512)         1574912   \n",
      "_________________________________________________________________\n",
      "bidirectional_5 (Bidirection (None, None, 512)         1574912   \n",
      "_________________________________________________________________\n",
      "dense_2 (Dense)              (None, None, 26)          13338     \n",
      "=================================================================\n",
      "Total params: 8,716,058\n",
      "Trainable params: 8,714,010\n",
      "Non-trainable params: 2,048\n",
      "_________________________________________________________________\n"
     ]
    }
   ],
   "source": [
    "model.summary()"
   ]
  },
  {
   "cell_type": "code",
   "execution_count": null,
   "id": "a92538c5",
   "metadata": {},
   "outputs": [],
   "source": []
  }
 ],
 "metadata": {
  "kernelspec": {
   "display_name": "Python 3",
   "language": "python",
   "name": "python3"
  },
  "language_info": {
   "codemirror_mode": {
    "name": "ipython",
    "version": 3
   },
   "file_extension": ".py",
   "mimetype": "text/x-python",
   "name": "python",
   "nbconvert_exporter": "python",
   "pygments_lexer": "ipython3",
   "version": "3.8.2"
  }
 },
 "nbformat": 4,
 "nbformat_minor": 5
}
