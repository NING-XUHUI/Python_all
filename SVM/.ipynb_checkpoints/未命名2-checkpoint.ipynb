{
 "cells": [
  {
   "cell_type": "code",
   "execution_count": 8,
   "id": "8548c14a",
   "metadata": {},
   "outputs": [
    {
     "ename": "ModuleNotFoundError",
     "evalue": "No module named 'tensorflow.keras.Model'",
     "output_type": "error",
     "traceback": [
      "\u001b[0;31m---------------------------------------------------------------------------\u001b[0m",
      "\u001b[0;31mModuleNotFoundError\u001b[0m                       Traceback (most recent call last)",
      "\u001b[0;32m<ipython-input-8-baf84c39212d>\u001b[0m in \u001b[0;36m<module>\u001b[0;34m\u001b[0m\n\u001b[1;32m      2\u001b[0m \u001b[0;32mimport\u001b[0m \u001b[0mtensorflow\u001b[0m\u001b[0;34m.\u001b[0m\u001b[0mkeras\u001b[0m \u001b[0;32mas\u001b[0m \u001b[0mkeras\u001b[0m\u001b[0;34m\u001b[0m\u001b[0;34m\u001b[0m\u001b[0m\n\u001b[1;32m      3\u001b[0m \u001b[0;32mimport\u001b[0m \u001b[0mtensorflow\u001b[0m\u001b[0;34m.\u001b[0m\u001b[0mkeras\u001b[0m\u001b[0;34m.\u001b[0m\u001b[0mlayers\u001b[0m \u001b[0;32mas\u001b[0m \u001b[0mlayers\u001b[0m\u001b[0;34m\u001b[0m\u001b[0;34m\u001b[0m\u001b[0m\n\u001b[0;32m----> 4\u001b[0;31m \u001b[0;32mimport\u001b[0m \u001b[0mtensorflow\u001b[0m\u001b[0;34m.\u001b[0m\u001b[0mkeras\u001b[0m\u001b[0;34m.\u001b[0m\u001b[0mModel\u001b[0m \u001b[0;32mas\u001b[0m \u001b[0mModel\u001b[0m\u001b[0;34m\u001b[0m\u001b[0;34m\u001b[0m\u001b[0m\n\u001b[0m",
      "\u001b[0;31mModuleNotFoundError\u001b[0m: No module named 'tensorflow.keras.Model'"
     ]
    }
   ],
   "source": [
    "import tensorflow as tf\n",
    "import tensorflow.keras as keras\n",
    "import tensorflow.keras.layers as layers"
   ]
  },
  {
   "cell_type": "code",
   "execution_count": 2,
   "id": "c0bc1d62",
   "metadata": {},
   "outputs": [],
   "source": [
    "def VGG(input_tensor):\n",
    "    \"\"\"\n",
    "    The original feature extraction structure from CRNN paper.\n",
    "    Related paper: http://arxiv.org/abs/1507.05717\n",
    "    \"\"\"\n",
    "    x = layers.Conv2D(\n",
    "        filters=64, \n",
    "        kernel_size=3, \n",
    "        padding='same',\n",
    "        activation='relu')(input_tensor)\n",
    "    x = layers.MaxPool2D(pool_size=2, padding='same')(x)\n",
    "\n",
    "    x = layers.Conv2D(\n",
    "        filters=128, \n",
    "        kernel_size=3, \n",
    "        padding='same',\n",
    "        activation='relu')(x)\n",
    "    x = layers.MaxPool2D(pool_size=2, padding='same')(x)\n",
    "\n",
    "    for i in range(2):\n",
    "        x = layers.Conv2D(filters=256, kernel_size=3, padding='same',\n",
    "                          activation='relu')(x)\n",
    "    x = layers.MaxPool2D(pool_size=(2, 2), strides=(2, 1), padding='same')(x)\n",
    "\n",
    "    for i in range(2):\n",
    "        x = layers.Conv2D(filters=512, kernel_size=3, padding='same')(x)\n",
    "        x = layers.BatchNormalization()(x)\n",
    "        x = layers.Activation('relu')(x)\n",
    "    x = layers.MaxPool2D(pool_size=(2, 2), strides=(2, 1), padding='same')(x)\n",
    "\n",
    "    x = layers.Conv2D(filters=512, kernel_size=2, activation='relu')(x)\n",
    "    return x"
   ]
  },
  {
   "cell_type": "code",
   "execution_count": 4,
   "id": "269732b2",
   "metadata": {},
   "outputs": [],
   "source": [
    "def crnn(num_classes):\n",
    "    img_input = keras.Input(shape=(32, None, 1))\n",
    "\n",
    "    x = VGG(img_input)\n",
    "    x = layers.Reshape((-1, 512))(x)\n",
    "\n",
    "    x = layers.Bidirectional(layers.LSTM(units=256, return_sequences=True))(x)\n",
    "    x = layers.Bidirectional(layers.LSTM(units=256, return_sequences=True))(x)\n",
    "    x = layers.Dense(units=num_classes)(x)\n",
    "    return Model(inputs=img_input, outputs=x, name='CRNN')"
   ]
  },
  {
   "cell_type": "markdown",
   "id": "5a74ebdf",
   "metadata": {},
   "source": [
    "model = "
   ]
  }
 ],
 "metadata": {
  "kernelspec": {
   "display_name": "Python 3",
   "language": "python",
   "name": "python3"
  },
  "language_info": {
   "codemirror_mode": {
    "name": "ipython",
    "version": 3
   },
   "file_extension": ".py",
   "mimetype": "text/x-python",
   "name": "python",
   "nbconvert_exporter": "python",
   "pygments_lexer": "ipython3",
   "version": "3.8.2"
  }
 },
 "nbformat": 4,
 "nbformat_minor": 5
}
